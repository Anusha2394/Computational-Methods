{
  "cells": [
    {
      "cell_type": "markdown",
      "metadata": {
        "id": "view-in-github"
      },
      "source": [
        "<a href=\"https://colab.research.google.com/github/unt-iialab/INFO5731_Spring2020/blob/master/Assignments/INFO5731_Assignment_One.ipynb\" target=\"_parent\"><img src=\"https://colab.research.google.com/assets/colab-badge.svg\" alt=\"Open In Colab\"/></a>"
      ]
    },
    {
      "cell_type": "markdown",
      "metadata": {
        "id": "Ryk8D1Q4Wsrp"
      },
      "source": [
        "# **INFO5731 Assignment One**"
      ]
    },
    {
      "cell_type": "markdown",
      "metadata": {
        "id": "90_NR8c5XGWc"
      },
      "source": [
        "# Question 1\n",
        "\n",
        "(20 points). Write a Python program to generate 12 random numbers between 1 and 100. Sort the list of numbers in ascending order and print it out. Sort the list of numbers in descending order and print it out. Calculate the average for the group and print it out."
      ]
    },
    {
      "cell_type": "code",
      "execution_count": 20,
      "metadata": {
        "colab": {
          "base_uri": "https://localhost:8080/"
        },
        "id": "5QX6bJjGWXY9",
        "outputId": "efa5ef7e-9383-4d80-e166-5a2c601a84d4"
      },
      "outputs": [
        {
          "output_type": "stream",
          "name": "stdout",
          "text": [
            "12 Random Numbers between 1 to 100:\n",
            " [78, 87, 76, 32, 65, 32, 92, 43, 91, 75, 43, 64]\n",
            "\n",
            "\n",
            "Ascending Order:\n",
            " [32, 32, 43, 43, 64, 65, 75, 76, 78, 87, 91, 92]\n",
            "\n",
            "\n",
            "Descending Order:\n",
            " [92, 91, 87, 78, 76, 75, 65, 64, 43, 43, 32, 32]\n",
            "\n",
            "\n",
            "The average of 12 numbers is: 64.83\n"
          ]
        }
      ],
      "source": [
        "# Your code here\n",
        "#importing Libraries\n",
        "import numpy as np\n",
        "import random\n",
        "#Generating random numbers between 1 to 100\n",
        "mylist = []\n",
        "\n",
        "for i in range(0,12):\n",
        "    x = random.randint(1,100)\n",
        "    mylist.append(x)\n",
        "\n",
        "\n",
        "print(\"12 Random Numbers between 1 to 100:\\n\", mylist)\n",
        "print(\"\\n\")\n",
        "\n",
        "# Ascending order\n",
        "ascending_sort=sorted(mylist)\n",
        "print(\"Ascending Order:\\n\", ascending_sort)\n",
        "print(\"\\n\")\n",
        "\n",
        "#Descending order\n",
        "descending_sort=sorted(mylist, reverse=True)\n",
        "print(\"Descending Order:\\n\" , descending_sort)\n",
        "print(\"\\n\")\n",
        "\n",
        "#mean\n",
        "print(\"The average of 12 numbers is:\", round(np.mean(mylist),2))\n",
        "\n"
      ]
    },
    {
      "cell_type": "markdown",
      "metadata": {
        "id": "1F_PZdH9Sh49"
      },
      "source": [
        "# Question 2\n",
        "(25 points). Write a program that will do the following string formatting tasks:\n",
        "\n",
        "(1) Ask the user to enter two sentences.\n",
        "\n",
        "(2) Make each sentence into a list. Each element in the list should correspond to a word in the sentence. For example, if the sentence is \"Alas! Am I alive? This is my first python program\", the program should print out ['Alas, '!', 'Am', 'I', 'alive, '?', 'This', 'is', 'my', 'first', 'python', 'program'].\n",
        "\n",
        "(3) Compare the two sentences. Print out a list of words that occur in both sentences.\n",
        "\n",
        "(4) Remove any punctuation from the sentence and print it back out. It should remove at least the following characters, but it can remove more: period(“.”), comma (“,”), semicolon (“;”), and colon (“:”)\n",
        "\n",
        "(5) Count the number of vowels in the sentences. Print out each vowel and the number of times it appears in the sentences, such as: a:2, e:1, i:0, etc"
      ]
    },
    {
      "cell_type": "code",
      "execution_count": 21,
      "metadata": {
        "colab": {
          "base_uri": "https://localhost:8080/"
        },
        "id": "Y0oOSlsOS0cq",
        "outputId": "e3ca72a7-449c-4ede-8c9b-6d18a126ad08"
      },
      "outputs": [
        {
          "name": "stdout",
          "output_type": "stream",
          "text": [
            "enter first sentence:\n",
            " Hi I am Anusha! I am writing my first Python program\n",
            "enter second sentence:\n",
            " I am loving python:) and my first program got executed;);)\n"
          ]
        }
      ],
      "source": [
        "# Your code here\n",
        "import re\n",
        "#2(1)\n",
        "# taking inputs from user\n",
        "sent1=input(\"enter first sentence:\\n \")\n",
        "sent2=input(\"enter second sentence:\\n \")\n"
      ]
    },
    {
      "cell_type": "code",
      "source": [
        "#2(2)\n",
        "reg_exp = r\"[0-9a-zA-Z_]+|\\$[\\d\\.]+|\\S+\"\n",
        "statement1= re.findall(reg_exp,sent1)\n",
        "statement2= re.findall(reg_exp,sent2)\n",
        "list=statement1+statement2\n",
        "print(\" final list of elements is :  \",  list)"
      ],
      "metadata": {
        "colab": {
          "base_uri": "https://localhost:8080/"
        },
        "id": "8jWbIo73oJEP",
        "outputId": "9afd80f3-f8a5-4c90-cfbf-46feb6e30f09"
      },
      "execution_count": 22,
      "outputs": [
        {
          "output_type": "stream",
          "name": "stdout",
          "text": [
            " final list of elements is :   ['Hi', 'I', 'am', 'Anusha', '!', 'I', 'am', 'writing', 'my', 'first', 'Python', 'program', 'I', 'am', 'loving', 'python', ':)', 'and', 'my', 'first', 'program', 'got', 'executed', ';);)']\n"
          ]
        }
      ]
    },
    {
      "cell_type": "code",
      "source": [
        "# 2(3) \n",
        "# Comparing two sentences \n",
        "print()\n",
        "for char1 in statement1:\n",
        "  for char2 in statement2:\n",
        "    if char1==char2:\n",
        "      print(\"The list of words that occur in both sentences are : \", char1)\n",
        "\n"
      ],
      "metadata": {
        "colab": {
          "base_uri": "https://localhost:8080/"
        },
        "id": "vf8FXwJrn-HF",
        "outputId": "cb8b5f57-8d82-4cdb-a00e-ca81a2fbd7ba"
      },
      "execution_count": 23,
      "outputs": [
        {
          "output_type": "stream",
          "name": "stdout",
          "text": [
            "\n",
            "The list of words that occur in both sentences are :  I\n",
            "The list of words that occur in both sentences are :  am\n",
            "The list of words that occur in both sentences are :  I\n",
            "The list of words that occur in both sentences are :  am\n",
            "The list of words that occur in both sentences are :  my\n",
            "The list of words that occur in both sentences are :  first\n",
            "The list of words that occur in both sentences are :  program\n"
          ]
        }
      ]
    },
    {
      "cell_type": "code",
      "source": [
        "# 2(4)\n",
        "# working with punctuations\n",
        "punctuations=[':',';',',','.','!','$','@','#','%']\n",
        "final_statment=\"\"\n",
        "for item in list:\n",
        "  if item not in punctuations:\n",
        "    final_statment=final_statment + item\n",
        "\n",
        "print(\"Printing final statement with out punctuation : \" , final_statment)\n",
        "\n"
      ],
      "metadata": {
        "colab": {
          "base_uri": "https://localhost:8080/"
        },
        "id": "WYfzsqMdo15S",
        "outputId": "8345a8d2-eb99-45fd-a015-4c57296e03f8"
      },
      "execution_count": 24,
      "outputs": [
        {
          "output_type": "stream",
          "name": "stdout",
          "text": [
            "Printing final statement with out punctuation :  HiIamAnushaIamwritingmyfirstPythonprogramIamlovingpython:)andmyfirstprogramgotexecuted;);)\n"
          ]
        }
      ]
    },
    {
      "cell_type": "code",
      "source": [
        "# 2(5)\n",
        "# Counting vowels\n",
        "vowels_count = {}\n",
        "statment = sent1.lower()+ sent2.lower()\n",
        "\n",
        "for item in \"aeiou\":\n",
        "  vowels_count[item]=statment.count(item)\n",
        "\n",
        "print(\"The number of times vowel appears in each sentences:\")\n",
        "vowels_count"
      ],
      "metadata": {
        "colab": {
          "base_uri": "https://localhost:8080/"
        },
        "id": "HSMePacbo6mr",
        "outputId": "1b1a61d4-73a3-422c-a919-17a4254e4c73"
      },
      "execution_count": 25,
      "outputs": [
        {
          "output_type": "stream",
          "name": "stdout",
          "text": [
            "The number of times vowel appears in each sentences:\n"
          ]
        },
        {
          "output_type": "execute_result",
          "data": {
            "text/plain": [
              "{'a': 8, 'e': 3, 'i': 9, 'o': 6, 'u': 2}"
            ]
          },
          "metadata": {},
          "execution_count": 25
        }
      ]
    },
    {
      "cell_type": "markdown",
      "metadata": {
        "id": "CmFoI4jDS9nx"
      },
      "source": [
        "# Question 3 \n",
        "\n",
        "(15 points). The formula that describes the volume V of a sphere with radius r is the following:\n",
        "\n",
        "$ V=\\frac{4}{3}\\ast\\ \\pi\\ast\\ r^3 $\n",
        "\n",
        "Write a program to calculate the value of V when r is in the range of 1–10. Output the result in the following format:\n",
        "\n",
        "\tr\tV\n",
        "\t1\t…\n",
        "\t2\t…\n",
        "\t3\t…\n"
      ]
    },
    {
      "cell_type": "code",
      "execution_count": 26,
      "metadata": {
        "colab": {
          "base_uri": "https://localhost:8080/"
        },
        "id": "pEyqeioAT95b",
        "outputId": "3ce8b1bb-b27b-4385-ba6a-68b584aaf8a3"
      },
      "outputs": [
        {
          "output_type": "stream",
          "name": "stdout",
          "text": [
            "Calculate volume : \n",
            "1  -  4.1887902047863905\n",
            "2  -  33.510321638291124\n",
            "3  -  113.09733552923254\n",
            "4  -  268.082573106329\n",
            "5  -  523.5987755982989\n",
            "6  -  904.7786842338603\n",
            "7  -  1436.7550402417319\n",
            "8  -  2144.660584850632\n",
            "9  -  3053.6280592892786\n",
            "10  -  4188.790204786391\n"
          ]
        }
      ],
      "source": [
        "# Your code here\n",
        "# Mathematical Computation\n",
        "\n",
        "from math import pi\n",
        "print(\"Calculate volume : \" )\n",
        "#iterating through radius range 1-11\n",
        "for r in range(1,11):\n",
        "  Volume =(4/3)* pi * r**3\n",
        "  print(r,\" - \",Volume)\n"
      ]
    },
    {
      "cell_type": "markdown",
      "metadata": {
        "id": "z3tBE7E-Xn5X"
      },
      "source": [
        "# Question 4\n",
        "\n",
        "(40 points). In the field of Data Science, data is often formatted as a comma-delimited (CSV) file, where each line in a file corresponds to a field's value. Refer to Chapter 9 (p. 106) for more information on comma-delimited files. To answer this question, you will need to download the file [Assignment1_denton_housing.csv](https://raw.githubusercontent.com/unt-iialab/info5731-spring2022/main/assignments/Assignment1_denton_housing.csv) included with this assignment. The file [Assignment1_denton_housing.csv](https://raw.githubusercontent.com/unt-iialab/info5731-spring2022/main/assignments/Assignment1_denton_housing.csv) contains statistics about housing in the city of Denton from 2008 to 2014. Write a program to implement the following questions.\n",
        "\n",
        "(1) (10 pts) Calculate the difference in the number of Occupied Housing Units from year to year and print it. The difference must be calculated for the consecutive years such as 2008-2009, 2009-2010 etc. Finally, print the values in the ascending order.\n",
        "\n",
        "(2) (10 pts) For all the years, calculate the percentage of housing units which are vacant an occupied. Print the results in the following format:\n",
        "\n",
        "Year Vacant Housing Units Occupied Housing Units\n",
        "\n",
        "    2008  30%   70%                          \n",
        "\t2009 ----- -----\n",
        "\t2010 ----- -----\n",
        "    2011 ----- -----\n",
        "\t2012 ----- -----\n",
        "    2013 ----- -----\n",
        "\t2014 ----- -----\n",
        "  \n",
        "  \n",
        "\n",
        "(3) (10 pts) Calculate and print the valued and years in which the highest number of housing units were vacant and occupied. Print the results in the following format:  \n",
        "\n",
        "                              Year\tValue\n",
        "\tVacant Housing Units\t  -----   -----\n",
        "\tOccupied Housing Units\t-----   -----\n",
        "\n",
        "(4) (10 pts) Calculate the harmonic mean of the total housing units and print it out. You can find the information about harmonic mean here: https://ncalculators.com/statistics/harmonic-mean-calculator.htm"
      ]
    },
    {
      "cell_type": "code",
      "execution_count": 27,
      "metadata": {
        "colab": {
          "base_uri": "https://localhost:8080/"
        },
        "id": "lqGYuHBhcsRH",
        "outputId": "c63e015a-10ed-4fbf-bd71-5bc8b39fdaa7"
      },
      "outputs": [
        {
          "output_type": "stream",
          "name": "stdout",
          "text": [
            "                 title_field  value\n",
            "year                               \n",
            "2014     Total Housing Units  49109\n",
            "2014    Vacant Housing Units   2814\n",
            "2014  Occupied Housing Units  46295\n",
            "2013     Total Housing Units  47888\n",
            "2013    Vacant Housing Units   4215\n",
            "2013  Occupied Housing Units  43673\n",
            "2012     Total Housing Units  45121\n",
            "2012    Vacant Housing Units   3013\n",
            "2012  Occupied Housing Units  42108\n",
            "2011     Total Housing Units  44917\n",
            "2011    Vacant Housing Units   4213\n",
            "2011  Occupied Housing Units  40704\n",
            "2010     Total Housing Units  44642\n",
            "2010    Vacant Housing Units   3635\n",
            "2010  Occupied Housing Units  41007\n",
            "2009     Total Housing Units  39499\n",
            "2009    Vacant Housing Units   3583\n",
            "2009  Occupied Housing Units  35916\n",
            "2008     Total Housing Units  41194\n",
            "2008    Vacant Housing Units   4483\n",
            "2008  Occupied Housing Units  36711\n",
            "2014          Owner Occupied  21427\n",
            "2014         Renter Occupied  24868\n",
            "2013          Owner Occupied  20845\n",
            "2013         Renter Occupied  22828\n",
            "2012          Owner Occupied  20068\n",
            "2012         Renter Occupied  22040\n",
            "2011          Owner Occupied  18478\n",
            "2011         Renter Occupied  22226\n",
            "2010          Owner Occupied  18867\n",
            "2010         Renter Occupied  22140\n",
            "2009          Owner Occupied  18057\n",
            "2009         Renter Occupied  17859\n",
            "2008          Owner Occupied  17340\n",
            "2008         Renter Occupied  19371\n",
            "2014       Median Gross Rent    905\n",
            "2013       Median Gross Rent    887\n",
            "2012       Median Gross Rent    842\n",
            "2011       Median Gross Rent    821\n",
            "2010       Median Gross Rent    780\n",
            "2009       Median Gross Rent    769\n",
            "2008       Median Gross Rent    768\n"
          ]
        }
      ],
      "source": [
        "# Your code here\n",
        "#importing libraries\n",
        "import pandas as pd\n",
        "\n",
        "# reading csv file \n",
        "df=pd.read_csv(\"/content/Assignment1_denton_housing.csv\",index_col=\"year\")\n",
        "print(df)\n",
        "\n"
      ]
    },
    {
      "cell_type": "code",
      "source": [
        "# Program to calculate the difference in the number of Occupied Housing Units from year to year and print it\n",
        "#calculating difference in the number of Occupied Housing Units from year to year \n",
        "# 4(1)\n",
        "# organising data declaring the index\n",
        "df.sort_index(axis=0,ascending=True,inplace=True)\n",
        "df_sort=df[df.title_field==\"Occupied Housing Units\"].sort_index(axis=0,ascending=True)\n",
        "df_to_sort=df_sort.reset_index()\n",
        "\n",
        "data_Frame=df_to_sort[[\"year\",\"value\"]].values\n",
        "\n",
        "list_new=[]\n",
        "# Iterating  data frame and copying to new list by difference between 2 rows\n",
        "for item in range(len(data_Frame)-1):\n",
        "  list_new.append(data_Frame[item+1][1]-data_Frame[item][1])\n",
        "list_new\n",
        "\n",
        "# Printing values depicting the consecutive years\n",
        "print(\"Consecutive years \\t Difference value\")\n",
        "for item in range(2008,2014):\n",
        "  print(item,\"-\",item+1,\" ---------->\",list_new[item-2008])\n",
        "\n",
        "print(\"\\n\")\n",
        "\n",
        "#Printing the ascending order based on the difference values\n",
        "\n",
        "data_2 = [['2008-2009', -795],['2009-2010', 5091],['2010-2011', -303],['2011-2012', 1404],['2012-2013', 1565],['2013-2014', 2622]]  \n",
        "B = pd.DataFrame(data_2, columns = ['Consecutive years',  'Difference value'])\n",
        "sorted_frame = B.sort_values('Difference value') \n",
        "\n",
        "print(\"The Ascending order of the difference value for consecutive years is:\\n\")\n",
        "\n",
        "print(sorted_frame)\n"
      ],
      "metadata": {
        "colab": {
          "base_uri": "https://localhost:8080/"
        },
        "id": "jK5-IL29tQdW",
        "outputId": "9a943004-5fea-44ad-aad9-fcc0d73198de"
      },
      "execution_count": 28,
      "outputs": [
        {
          "output_type": "stream",
          "name": "stdout",
          "text": [
            "Consecutive years \t Difference value\n",
            "2008 - 2009  ----------> -795\n",
            "2009 - 2010  ----------> 5091\n",
            "2010 - 2011  ----------> -303\n",
            "2011 - 2012  ----------> 1404\n",
            "2012 - 2013  ----------> 1565\n",
            "2013 - 2014  ----------> 2622\n",
            "\n",
            "\n",
            "The Ascending order of the difference value for consecutive years is:\n",
            "\n",
            "  Consecutive years  Difference value\n",
            "0         2008-2009              -795\n",
            "2         2010-2011              -303\n",
            "3         2011-2012              1404\n",
            "4         2012-2013              1565\n",
            "5         2013-2014              2622\n",
            "1         2009-2010              5091\n"
          ]
        }
      ]
    },
    {
      "cell_type": "code",
      "source": [
        "# 4(2)\n",
        "# calculate the percentage of housing units which are vacant an occupied\n",
        "df.reset_index(inplace=True)\n",
        "units_occupied =[]\n",
        "units_vacant =[]\n",
        "\n",
        "#appending the number units to vacant units and occupied units based on title of housing units\n",
        "for i in range(2008,2015):\n",
        "  units_occupied.append((df[(df[\"year\"]==i) & (df[\"title_field\"]==\"Occupied Housing Units\")].value.values)/(df[(df[\"year\"]==i) & (df[\"title_field\"]==\"Total Housing Units\")].value.values))\n",
        "  units_vacant.append((df[(df[\"year\"]==i) & (df[\"title_field\"]==\"Vacant Housing Units\")].value.values)/(df[(df[\"year\"]==i) & (df[\"title_field\"]==\"Total Housing Units\")].value.values))\n",
        "\n",
        "#Printing the percentage of vacant and occupied housing units \n",
        "print(\"Year \\t Occupied Units \\t Vacant Units\")\n",
        "for i in range(2008,2015):\n",
        "  print(i,\"\\t\\t\",\"{0:.0f}%\".format(units_occupied[i-2008][0]*100) , \"\\t\\t\\t\", \"{0:.0f}%\".format(units_vacant[i-2008][0]*100))"
      ],
      "metadata": {
        "colab": {
          "base_uri": "https://localhost:8080/"
        },
        "id": "WSQOGA83vLxc",
        "outputId": "cde31333-d6c6-4ebc-fcba-c8af51c12b0e"
      },
      "execution_count": 29,
      "outputs": [
        {
          "output_type": "stream",
          "name": "stdout",
          "text": [
            "Year \t Occupied Units \t Vacant Units\n",
            "2008 \t\t 89% \t\t\t 11%\n",
            "2009 \t\t 91% \t\t\t 9%\n",
            "2010 \t\t 92% \t\t\t 8%\n",
            "2011 \t\t 91% \t\t\t 9%\n",
            "2012 \t\t 93% \t\t\t 7%\n",
            "2013 \t\t 91% \t\t\t 9%\n",
            "2014 \t\t 94% \t\t\t 6%\n"
          ]
        }
      ]
    },
    {
      "cell_type": "code",
      "source": [
        "# 4(3)\n",
        "# Calculate and print the valued and years in which the highest number of housing units were vacant and occupied\n",
        "occupied_list=[]\n",
        "vacant_list=[]\n",
        "\n",
        "for i in range(2008,2015):\n",
        "  occupied_list.append(units_occupied[i-2008][0])\n",
        "  vacant_list.append(units_vacant[i-2008][0])\n",
        "\n",
        "print(\"\\t\\t\\t Year\\t Value\")\n",
        "\n",
        "#calculating max of vacant housing units    \n",
        "for i in enumerate(units_vacant,start=2008):\n",
        "      #printing in given format\n",
        "  if(i[1][0]==max(vacant_list)):\n",
        "    print(\"Vacant Housing Units \\t\",i[0],\"\\t\",(df[(df.year==i[0])&(df.title_field==\"Vacant Housing Units\")].value.values)[0])\n",
        "    break\n",
        "    \n",
        "#calculating max of occupied housing units\n",
        "for i in enumerate(units_occupied,start=2008):\n",
        "  if(i[1][0]==max(occupied_list)):\n",
        "    #printing in given format\n",
        "    print(\"Occupied Housing Units \\t\",i[0],\"\\t\",(df[(df.year==i[0])&(df.title_field==\"Occupied Housing Units\")].value.values)[0])\n",
        "    break\n",
        "\n"
      ],
      "metadata": {
        "colab": {
          "base_uri": "https://localhost:8080/"
        },
        "id": "SZPVJ3nDvpen",
        "outputId": "6c16350c-41ca-481d-d2e2-e714d342b4af"
      },
      "execution_count": 30,
      "outputs": [
        {
          "output_type": "stream",
          "name": "stdout",
          "text": [
            "\t\t\t Year\t Value\n",
            "Vacant Housing Units \t 2008 \t 4483\n",
            "Occupied Housing Units \t 2014 \t 46295\n"
          ]
        }
      ]
    },
    {
      "cell_type": "code",
      "source": [
        "# 4(4)\n",
        "#Calculate the harmonic mean of the total housing units\n",
        "from scipy import stats\n",
        "\n",
        "df[df.title_field==\"Total Housing Units\"].value.values\n",
        "\n",
        "print(df[df.title_field==\"Total Housing Units\"].value.values)\n",
        "print(\"The harmonic mean calculated :\\n\")\n",
        "stats.hmean(df[df.title_field==\"Total Housing Units\"].value.values)"
      ],
      "metadata": {
        "colab": {
          "base_uri": "https://localhost:8080/"
        },
        "id": "gGE0Tcz1wAke",
        "outputId": "7151104a-7b50-4247-ad34-4b987f4722c6"
      },
      "execution_count": 31,
      "outputs": [
        {
          "output_type": "stream",
          "name": "stdout",
          "text": [
            "[41194 39499 44642 44917 45121 47888 49109]\n",
            "The harmonic mean calculated :\n",
            "\n"
          ]
        },
        {
          "output_type": "execute_result",
          "data": {
            "text/plain": [
              "44398.28543969185"
            ]
          },
          "metadata": {},
          "execution_count": 31
        }
      ]
    },
    {
      "cell_type": "code",
      "source": [
        ""
      ],
      "metadata": {
        "id": "zuAJxaqywMx8"
      },
      "execution_count": 31,
      "outputs": []
    }
  ],
  "metadata": {
    "colab": {
      "collapsed_sections": [],
      "name": "INFO5731_Assignment_One.ipynb",
      "provenance": []
    },
    "kernelspec": {
      "display_name": "Python 3",
      "language": "python",
      "name": "python3"
    },
    "language_info": {
      "codemirror_mode": {
        "name": "ipython",
        "version": 3
      },
      "file_extension": ".py",
      "mimetype": "text/x-python",
      "name": "python",
      "nbconvert_exporter": "python",
      "pygments_lexer": "ipython3",
      "version": "3.8.5"
    }
  },
  "nbformat": 4,
  "nbformat_minor": 0
}