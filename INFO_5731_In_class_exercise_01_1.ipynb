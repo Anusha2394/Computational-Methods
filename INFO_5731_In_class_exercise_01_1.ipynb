{
  "cells": [
    {
      "cell_type": "markdown",
      "metadata": {
        "id": "view-in-github"
      },
      "source": [
        "<a href=\"https://colab.research.google.com/github/unt-iialab/INFO5731_Spring2020/blob/master/In_class_exercise/In_class_exercise_01.ipynb\" target=\"_parent\"><img src=\"https://colab.research.google.com/assets/colab-badge.svg\" alt=\"Open In Colab\"/></a>"
      ]
    },
    {
      "cell_type": "markdown",
      "metadata": {
        "id": "DymRJbxDBCnf"
      },
      "source": [
        "# **The first In-class-exercise (01/25/2022, 40 points in total)**"
      ]
    },
    {
      "cell_type": "markdown",
      "metadata": {
        "id": "03jb4GZsBkBS"
      },
      "source": [
        "(1) Write a Python program to calculate the length of a string. (4 points)"
      ]
    },
    {
      "cell_type": "code",
      "execution_count": 2,
      "metadata": {
        "colab": {
          "base_uri": "https://localhost:8080/"
        },
        "id": "YaGLbSHHB8Ej",
        "outputId": "1d0e3bce-f807-4d7a-8cf2-01cb8f197d1a"
      },
      "outputs": [
        {
          "output_type": "stream",
          "name": "stdout",
          "text": [
            "10\n"
          ]
        }
      ],
      "source": [
        "# write your answer here\n",
        "#defining function to calculate length of string\n",
        "def string_length(name):\n",
        "  return len(name)\n",
        "#calling calculate length of string function\n",
        "print(string_length(\"AnushaKasa\"))\n",
        "\n"
      ]
    },
    {
      "cell_type": "markdown",
      "metadata": {
        "id": "jJDe71iLB616"
      },
      "source": [
        "(2) Write a Python program to count the number of characters in a string. (4 points)\n",
        "\n",
        "Sample String : 'google.com‘, \n",
        "\n",
        "Expected Result : {'o': 3, 'g': 2, '.': 1, 'e': 1, 'l': 1, 'm': 1, 'c': 1}"
      ]
    },
    {
      "cell_type": "code",
      "execution_count": 3,
      "metadata": {
        "colab": {
          "base_uri": "https://localhost:8080/"
        },
        "id": "MtKskTzbCLaU",
        "outputId": "ff5ee39f-d139-4618-af88-53d5e163b45d"
      },
      "outputs": [
        {
          "output_type": "stream",
          "name": "stdout",
          "text": [
            "{'g': 2, 'o': 3, 'l': 1, 'e': 1, '.': 1, 'c': 1, 'm': 1}\n"
          ]
        }
      ],
      "source": [
        "# write your answer here\n",
        "# Defining function to count number of characters in a string\n",
        "def count_characters(inputString):\n",
        "    character_dict = {}\n",
        "\n",
        " # iterating tcharacters in input string \n",
        "    for i in inputString:\n",
        " # Reading keys  \n",
        "        dict_Keys = character_dict.keys()\n",
        " #incremanting values if key is present\n",
        "        if i in dict_Keys:\n",
        "            character_dict[i] = character_dict[i]+  1\n",
        "        else:\n",
        "            character_dict[i] = 1\n",
        "    return character_dict\n",
        "# calling characters count function    \n",
        "print(count_characters('google.com'))\n",
        "\n"
      ]
    },
    {
      "cell_type": "markdown",
      "metadata": {
        "id": "55W9AMdXCSpV"
      },
      "source": [
        "(3) Write a Python program to sum all the items in a list. (4 points)"
      ]
    },
    {
      "cell_type": "code",
      "execution_count": 4,
      "metadata": {
        "colab": {
          "base_uri": "https://localhost:8080/"
        },
        "id": "I57NXsauCec2",
        "outputId": "02d36b60-becb-4558-c9ba-96b89395ec2c"
      },
      "outputs": [
        {
          "output_type": "stream",
          "name": "stdout",
          "text": [
            "150\n"
          ]
        }
      ],
      "source": [
        "# write your answer here\n",
        "# defining function calculate sum of items\n",
        "def sum_Of_Items(inputList):\n",
        "  sum = 0\n",
        "\n",
        "  for i in inputList:\n",
        "    sum = sum + i\n",
        "  return sum\n",
        "\n",
        "#calling sum of items function\n",
        "print(sum_Of_Items([10,20,30,40,50]))\n"
      ]
    },
    {
      "cell_type": "markdown",
      "metadata": {
        "id": "4ulBZ6yhCi9F"
      },
      "source": [
        "(4) Write a Python program to get a string from a given string where all occurrences of its first char have been changed to '\\$', except the first char itself. (4 points)\n",
        "\n",
        "Sample String : 'restart‘, \n",
        "\n",
        "Expected Result : 'resta\\$t'"
      ]
    },
    {
      "cell_type": "code",
      "execution_count": 6,
      "metadata": {
        "colab": {
          "base_uri": "https://localhost:8080/"
        },
        "id": "Fj0XhwbBCw2o",
        "outputId": "e66f5efb-ffe9-40d5-c1d7-015e8ad2a914"
      },
      "outputs": [
        {
          "output_type": "stream",
          "name": "stdout",
          "text": [
            "resta$t\n"
          ]
        }
      ],
      "source": [
        "# write your answer here\n",
        "# defining function to change charcter \n",
        "def change_character(inputSring):\n",
        "\n",
        "  #Reading character in first position\n",
        "  first_char = inputSring[0] \n",
        "  #Reading remaining String\n",
        "  remaining_String  = inputSring[1:]\n",
        "\n",
        "  if first_char in remaining_String:\n",
        "    remaining_String=remaining_String.replace(\"r\",\"$\")\n",
        "    modified_String = first_char +remaining_String \n",
        "    return modified_String\n",
        "\n",
        "#Calling changing characters function\n",
        "print(change_character(\"restart\"))\n"
      ]
    },
    {
      "cell_type": "markdown",
      "metadata": {
        "id": "_bIP7s1MCzue"
      },
      "source": [
        "(5) Write a program with python which could accept two parameter a and b to calculate and output the result of S, where \n",
        "\n",
        "$\\ S=3.14*(1+a/b)^3$ (4 points)\n",
        "\n"
      ]
    },
    {
      "cell_type": "code",
      "execution_count": 7,
      "metadata": {
        "colab": {
          "base_uri": "https://localhost:8080/"
        },
        "id": "w79QilHXD3Mg",
        "outputId": "4c0655e9-bc8c-471e-c00c-553c65178918"
      },
      "outputs": [
        {
          "output_type": "stream",
          "name": "stdout",
          "text": [
            "84.78\n"
          ]
        }
      ],
      "source": [
        "# write your answer here\n",
        "# defining function to calculate mathematical operation\n",
        "def calculate_operation(a,b):\n",
        "    s= 3.14*(1+a/b)**3\n",
        "    return s\n",
        "    \n",
        "# calling function to calculate given mathematical operation\n",
        "print(calculate_operation(8,4))  \n"
      ]
    },
    {
      "cell_type": "markdown",
      "metadata": {
        "id": "xCa2bK9aD4Q3"
      },
      "source": [
        "(6) Write a Python program to concatenate following dictionaries to create a new one. (4 points)\n",
        "\n",
        "Sample Dictionary : dic1={1:10, 2:20}, dic2={3:30, 4:40}, dic3={5:50,6:60}, \n",
        "\n",
        "Expected Result : {1: 10, 2: 20, 3: 30, 4: 40, 5: 50, 6: 60}\n"
      ]
    },
    {
      "cell_type": "code",
      "execution_count": 8,
      "metadata": {
        "colab": {
          "base_uri": "https://localhost:8080/"
        },
        "id": "_z4aLqAbEET1",
        "outputId": "42112f56-6ef5-44ed-a9a3-3b3cbbca8a0a"
      },
      "outputs": [
        {
          "output_type": "stream",
          "name": "stdout",
          "text": [
            "{1: 10, 2: 20, 3: 30, 4: 40, 5: 50, 6: 60}\n"
          ]
        }
      ],
      "source": [
        "# write your answer here\n",
        "#defining function to merge multiple dictionaries\n",
        "def merge_dictionaries(dic1 , dic2 ,dic3):\n",
        "  dic4 = {**dic1 , **dic2 , **dic3}\n",
        "  return dic4\n",
        "\n",
        "dic1={1:10, 2:20}\n",
        "dic2={3:30, 4:40}\n",
        "dic3={5:50, 6:60}\n",
        "\n",
        "#calling function to merge dictionaries\n",
        "print(merge_dictionaries(dic1 , dic2 ,dic3))"
      ]
    },
    {
      "cell_type": "markdown",
      "metadata": {
        "id": "0v48Vqa7FrQh"
      },
      "source": [
        "(7) Write a Python program to check whether an element exists within a tuple. (4 points)"
      ]
    },
    {
      "cell_type": "code",
      "execution_count": 9,
      "metadata": {
        "colab": {
          "base_uri": "https://localhost:8080/"
        },
        "id": "7WEmgq-DF2P1",
        "outputId": "f25ebad9-1338-44ba-ad72-6d5241873c9f"
      },
      "outputs": [
        {
          "output_type": "stream",
          "name": "stdout",
          "text": [
            "True\n"
          ]
        }
      ],
      "source": [
        "# write your answer here\n",
        "#defining function to check existance of element in tupule\n",
        "def element_Check(input_element, input_tuple): \n",
        " for i in input_tuple:\n",
        "  if input_element in input_tuple:\n",
        "   return True\n",
        "  else: \n",
        "   return False\n",
        "\n",
        "input_tuple = (\"A\" ,\"N\" ,\"U\" , \"S\" ,\"H\", \"A\")\n",
        "\n",
        "#Calling function to find existence of element in tuple\n",
        "\n",
        "print(element_Check(\"N\" , input_tuple ))"
      ]
    },
    {
      "cell_type": "markdown",
      "metadata": {
        "id": "vD5PYLMuGga_"
      },
      "source": [
        "(8) Write a Python program to find maximum and the minimum value in a set. (4 points)"
      ]
    },
    {
      "cell_type": "code",
      "execution_count": 26,
      "metadata": {
        "colab": {
          "base_uri": "https://localhost:8080/"
        },
        "id": "t0D5kdJUGjjw",
        "outputId": "bf1ac468-773c-4db8-eba1-f7ec6a455239"
      },
      "outputs": [
        {
          "output_type": "stream",
          "name": "stdout",
          "text": [
            "Sorted list :  [-40, -11, -2, 6, 15, 20, 40]\n",
            "Minimum value :  -40\n",
            "Maximum value :  40\n"
          ]
        }
      ],
      "source": [
        "# write your answer here\n",
        "#defining function to check minimum and maximum values\n",
        "sorted_list = []\n",
        "\n",
        "def min_max_check(input_set):\n",
        "  input_List = list(input_set)\n",
        "\n",
        "# iterating elements in input list\n",
        "  while input_List:\n",
        "    minimum = input_List[0]  # arbitrary number in list \n",
        "    for x in input_List: \n",
        "        if x < minimum:\n",
        "            minimum = x\n",
        "    sorted_list.append(minimum)\n",
        "    input_List.remove(minimum)    \n",
        "  return sorted_list\n",
        "\n",
        "print(\"Sorted list : \",min_max_check({20, 40, 6, -11, -2, 15, -40}))\n",
        "print(\"Minimum value : \",sorted_list[0])\n",
        "print(\"Maximum value : \", sorted_list[len(sorted_list)-1])\n"
      ]
    },
    {
      "cell_type": "markdown",
      "metadata": {
        "id": "uHkd-y5VhVWC"
      },
      "source": [
        "(9) Write a Python program to randomly divide the students in this class into six groups for term projects, each group should have at least 4 students but no more than 6 students (including 6). Here is the students list: (4 points)\n",
        "\n",
        "studnet_list = ['ja0964','sa1198','sb1357','vb0218','sc1229','kg0569','kg0470','sg1297','bg0320','fh0141','jl1252','sk1386',\n",
        "           'ak0956','sk1390','sk1458','sk1313','ak0934','vm0377','nm0618','sm1640','sm1907','gn0108','pr0353','dr0609','ms1500','aos0040','ds0814', 'av0659','nv0234','hy0232']"
      ]
    },
    {
      "cell_type": "code",
      "execution_count": 25,
      "metadata": {
        "colab": {
          "base_uri": "https://localhost:8080/"
        },
        "id": "3iGbmcOBhTwy",
        "outputId": "7a7f33bd-4538-4a49-dc81-907913a558a3"
      },
      "outputs": [
        {
          "output_type": "stream",
          "name": "stdout",
          "text": [
            "[['gn0108', 'hy0232', 'ak0956', 'kg0569', 'sk1386', 'sm1640'], ['pr0353', 'dr0609', 'nv0234', 'vm0377', 'sk1458', 'sc1229'], ['sk1313', 'ak0934', 'ja0964', 'ms1500', 'vb0218', 'sb1357'], ['jl1252', 'sa1198', 'bg0320', 'kg0470', 'sm1907', 'sk1390'], ['fh0141', 'aos0040', 'nm0618', 'sg1297']]\n"
          ]
        }
      ],
      "source": [
        "# write your answer here\n",
        "\n",
        "student_list = ['ja0964','sa1198','sb1357','vb0218','sc1229','kg0569','kg0470','sg1297','bg0320','fh0141',\n",
        "                'jl1252','sk1386', 'ak0956','sk1390','sk1458','sk1313','ak0934','vm0377','nm0618','sm1640',\n",
        "                'sm1907','gn0108','pr0353','dr0609','ms1500','aos0040','ds0814', 'av0659','nv0234','hy0232']\n",
        "import random\n",
        "# defining function to divide students in to groups \n",
        "def select_random_Ns(student_list, n):\n",
        "    random.shuffle(student_list)\n",
        "    result = []\n",
        "    for i in range(2, len(student_list), n):\n",
        "        result.append(student_list[i:i + n])\n",
        "    return result\n",
        "        \n",
        "        \n",
        "#Calling function to divide students randomly in to groups\n",
        "print(select_random_Ns(student_list, 6))\n"
      ]
    },
    {
      "cell_type": "markdown",
      "metadata": {
        "id": "pPPKsymrlkXA"
      },
      "source": [
        "(10) Write a Python program to find the duplicate elements in a given array of integers. Return -1 If there are no such elements. (4 points)"
      ]
    },
    {
      "cell_type": "code",
      "execution_count": 31,
      "metadata": {
        "colab": {
          "base_uri": "https://localhost:8080/"
        },
        "id": "ojHltl44lkXA",
        "outputId": "a97fc6e1-841f-43c0-c5e9-c1bbd51e331a"
      },
      "outputs": [
        {
          "output_type": "stream",
          "name": "stdout",
          "text": [
            "Duplicate elements in given array: \n",
            "2\n",
            "2\n",
            "2\n",
            "8\n",
            "3\n"
          ]
        }
      ],
      "source": [
        "# write your answer here\n",
        "arr = [1, 2, 2, 4, 2, 6, 8, 8, 3,3];     \n",
        "     \n",
        "print(\"Duplicate elements in given array: \");    \n",
        "#defining a function to check duplicate elements\n",
        "def duplicate_check(input_list):\n",
        "\n",
        "  input_list = list(input_list)\n",
        "  for i in range(0, len(input_list)):    \n",
        "    for j in range(i+1, len(input_list)):    \n",
        "        if(input_list[i] == input_list[j]):    \n",
        "            print(input_list[j]); \n",
        "            \n",
        "#Calling function to check duplicates        \n",
        "duplicate_check(arr)\n",
        "  \n"
      ]
    },
    {
      "cell_type": "markdown",
      "metadata": {
        "id": "tXkWV0xUlkXA"
      },
      "source": [
        "(11) Write a Python program to select all the Sundays of a specified year. (4 \n",
        "\n",
        "1.   List item\n",
        "2.   List item\n",
        "\n",
        "extra points)"
      ]
    },
    {
      "cell_type": "code",
      "execution_count": 32,
      "metadata": {
        "colab": {
          "base_uri": "https://localhost:8080/"
        },
        "id": "om84FpiwlkXA",
        "outputId": "239bdb83-a449-4f90-872f-402b5828414b"
      },
      "outputs": [
        {
          "output_type": "stream",
          "name": "stdout",
          "text": [
            "2021-01-03\n",
            "2021-01-10\n",
            "2021-01-17\n",
            "2021-01-24\n",
            "2021-01-31\n",
            "2021-02-07\n",
            "2021-02-14\n",
            "2021-02-21\n",
            "2021-02-28\n",
            "2021-03-07\n",
            "2021-03-14\n",
            "2021-03-21\n",
            "2021-03-28\n",
            "2021-04-04\n",
            "2021-04-11\n",
            "2021-04-18\n",
            "2021-04-25\n",
            "2021-05-02\n",
            "2021-05-09\n",
            "2021-05-16\n",
            "2021-05-23\n",
            "2021-05-30\n",
            "2021-06-06\n",
            "2021-06-13\n",
            "2021-06-20\n",
            "2021-06-27\n",
            "2021-07-04\n",
            "2021-07-11\n",
            "2021-07-18\n",
            "2021-07-25\n",
            "2021-08-01\n",
            "2021-08-08\n",
            "2021-08-15\n",
            "2021-08-22\n",
            "2021-08-29\n",
            "2021-09-05\n",
            "2021-09-12\n",
            "2021-09-19\n",
            "2021-09-26\n",
            "2021-10-03\n",
            "2021-10-10\n",
            "2021-10-17\n",
            "2021-10-24\n",
            "2021-10-31\n",
            "2021-11-07\n",
            "2021-11-14\n",
            "2021-11-21\n",
            "2021-11-28\n",
            "2021-12-05\n",
            "2021-12-12\n",
            "2021-12-19\n",
            "2021-12-26\n"
          ]
        }
      ],
      "source": [
        "\n",
        "from datetime import date, timedelta\n",
        "\n",
        "#defining function to print sundays \n",
        "def print_sundays(year):\n",
        "       dt = date(year, 1, 1)\n",
        "       dt += timedelta(days = 6 - dt.weekday())  \n",
        "       while dt.year == year:\n",
        "          yield dt\n",
        "          dt += timedelta(days = 7)\n",
        " #calling function to print sundays                   \n",
        "for s in print_sundays(2021):\n",
        "   print(s)\n",
        "\n"
      ]
    },
    {
      "cell_type": "code",
      "source": [
        ""
      ],
      "metadata": {
        "id": "0VINbW7QTS6s"
      },
      "execution_count": null,
      "outputs": []
    }
  ],
  "metadata": {
    "colab": {
      "collapsed_sections": [],
      "name": "INFO_5731_In_class_exercise_01-1.ipynb",
      "provenance": []
    },
    "kernelspec": {
      "display_name": "Python 3",
      "language": "python",
      "name": "python3"
    },
    "language_info": {
      "codemirror_mode": {
        "name": "ipython",
        "version": 3
      },
      "file_extension": ".py",
      "mimetype": "text/x-python",
      "name": "python",
      "nbconvert_exporter": "python",
      "pygments_lexer": "ipython3",
      "version": "3.8.5"
    }
  },
  "nbformat": 4,
  "nbformat_minor": 0
}